{
 "cells": [
  {
   "cell_type": "markdown",
   "metadata": {},
   "source": [
    "# Red Neuronal (?) Inception V3 con Tensor.flow Keras"
   ]
  },
  {
   "cell_type": "code",
   "execution_count": 1,
   "metadata": {},
   "outputs": [
    {
     "name": "stderr",
     "output_type": "stream",
     "text": [
      "c:\\Users\\juang\\anaconda3\\lib\\site-packages\\pandas\\core\\computation\\expressions.py:21: UserWarning: Pandas requires version '2.8.4' or newer of 'numexpr' (version '2.7.3' currently installed).\n",
      "  from pandas.core.computation.check import NUMEXPR_INSTALLED\n",
      "c:\\Users\\juang\\anaconda3\\lib\\site-packages\\pandas\\core\\arrays\\masked.py:60: UserWarning: Pandas requires version '1.3.6' or newer of 'bottleneck' (version '1.3.2' currently installed).\n",
      "  from pandas.core import (\n"
     ]
    }
   ],
   "source": [
    "import tensorflow as tf\n",
    "from tensorflow.keras.preprocessing.image import ImageDataGenerator\n",
    "from tensorflow.keras.applications import InceptionV3\n",
    "from tensorflow.keras.models import Model\n",
    "from tensorflow.keras.layers import Dense, GlobalAveragePooling2D\n",
    "from tensorflow.keras.optimizers import Adam\n",
    "import os\n"
   ]
  },
  {
   "cell_type": "code",
   "execution_count": 1,
   "metadata": {},
   "outputs": [],
   "source": [
    "cumulos_folder_shell1=r\"C:\\Users\\juang\\Documents\\Tareas JD\\Universidad\\Materias\\8 Semestre\\Proyecto Teorico\\Proyecto Teorico 20242\\Gaia-DR3-Proyecto-Teorico-20242\\muestra_entrenamiento\\shell1\\cumulos\"\n",
    "nocumulos_folder_shell1=r\"C:\\Users\\juang\\Documents\\Tareas JD\\Universidad\\Materias\\8 Semestre\\Proyecto Teorico\\Proyecto Teorico 20242\\Gaia-DR3-Proyecto-Teorico-20242\\muestra_entrenamiento\\shell1\\no-cumulos\"\n",
    "\n",
    "cumulos_folder_shell2=r\"C:\\Users\\juang\\Documents\\Tareas JD\\Universidad\\Materias\\8 Semestre\\Proyecto Teorico\\Proyecto Teorico 20242\\Gaia-DR3-Proyecto-Teorico-20242\\muestra_entrenamiento\\shell2\\cumulos\"\n",
    "nocumulos_folder_shell2=r\"C:\\Users\\juang\\Documents\\Tareas JD\\Universidad\\Materias\\8 Semestre\\Proyecto Teorico\\Proyecto Teorico 20242\\Gaia-DR3-Proyecto-Teorico-20242\\muestra_entrenamiento\\shell2\\no-cumulos\"\n",
    "\n",
    "shell1=r\"C:\\Users\\juang\\Documents\\Tareas JD\\Universidad\\Materias\\8 Semestre\\Proyecto Teorico\\Proyecto Teorico 20242\\Gaia-DR3-Proyecto-Teorico-20242\\muestra_entrenamiento\\shell1\"\n",
    "shell2=r\"C:\\Users\\juang\\Documents\\Tareas JD\\Universidad\\Materias\\8 Semestre\\Proyecto Teorico\\Proyecto Teorico 20242\\Gaia-DR3-Proyecto-Teorico-20242\\muestra_entrenamiento\\shell2\"\n",
    "\n",
    "clasificar_shell1=r\"C:\\Users\\juang\\Documents\\Tareas JD\\Universidad\\Materias\\8 Semestre\\Proyecto Teorico\\Proyecto Teorico 20242\\Gaia-DR3-Proyecto-Teorico-20242\\data_v2\\shell1\"\n",
    "clasificar_shell2=r\"C:\\Users\\juang\\Documents\\Tareas JD\\Universidad\\Materias\\8 Semestre\\Proyecto Teorico\\Proyecto Teorico 20242\\Gaia-DR3-Proyecto-Teorico-20242\\data_v2\\shell2\""
   ]
  },
  {
   "cell_type": "code",
   "execution_count": null,
   "metadata": {},
   "outputs": [],
   "source": [
    "# Paths to the datasets\n",
    "train_data_dir = shell1 # Cambiar a shell1 o shell2 segun corresponda\n",
    "\n",
    "# Data augmentation and preprocessing for training\n",
    "train_datagen = ImageDataGenerator(\n",
    "    rescale=1.0/255.0,  # Rescale pixel values to [0, 1]\n",
    "    rotation_range=20,\n",
    "    width_shift_range=0.2,\n",
    "    height_shift_range=0.2,\n",
    "    shear_range=0.2,\n",
    "    zoom_range=0.2,\n",
    "    horizontal_flip=True\n",
    ")\n",
    "\n",
    "# Load training data from 'clusters' and 'not_clusters'\n",
    "train_generator = train_datagen.flow_from_directory(\n",
    "    train_data_dir,\n",
    "    target_size=(299, 299),  # InceptionV3 requires 299x299 input size\n",
    "    batch_size=32,\n",
    "    class_mode='binary',  # Binary classification: \"clusters\" vs \"not_clusters\"\n",
    "    classes=['cumulos', 'no-cumulos']  # Map directories to labels\n",
    ")\n",
    "\n",
    "# Data preprocessing for the unknown folder (without augmentation)\n",
    "test_datagen = ImageDataGenerator(rescale=1.0/255.0)\n",
    "\n",
    "unknown_generator = test_datagen.flow_from_directory(\n",
    "    clasificar_shell1, #TODO Organizar directorio con datos a clasificar\n",
    "    target_size=(299, 299),\n",
    "    batch_size=32,\n",
    "    class_mode=None,  # No labels for unknown data\n",
    "    shuffle=False  # Keep the order of files\n",
    ")\n"
   ]
  },
  {
   "cell_type": "code",
   "execution_count": null,
   "metadata": {},
   "outputs": [],
   "source": [
    "# Load the InceptionV3 model pre-trained on ImageNet\n",
    "base_model = InceptionV3(weights='imagenet', include_top=False)\n",
    "\n",
    "# Add custom layers for binary classification\n",
    "x = base_model.output\n",
    "x = GlobalAveragePooling2D()(x)\n",
    "x = Dense(1024, activation='relu')(x)\n",
    "predictions = Dense(1, activation='sigmoid')(x)  # Sigmoid for binary classification\n",
    "\n",
    "# Create the final model\n",
    "model = Model(inputs=base_model.input, outputs=predictions)\n",
    "\n",
    "# Freeze the base model layers\n",
    "for layer in base_model.layers:\n",
    "    layer.trainable = False\n",
    "\n",
    "# Compile the model\n",
    "model.compile(optimizer=Adam(learning_rate=0.0001),\n",
    "              loss='binary_crossentropy',  # Binary classification loss\n",
    "              metrics=['accuracy'])\n"
   ]
  },
  {
   "cell_type": "code",
   "execution_count": null,
   "metadata": {},
   "outputs": [],
   "source": [
    "model.fit(\n",
    "    train_generator,\n",
    "    epochs=10,  # Adjust based on your dataset\n",
    "    steps_per_epoch=train_generator.samples // train_generator.batch_size\n",
    ")"
   ]
  },
  {
   "cell_type": "code",
   "execution_count": null,
   "metadata": {},
   "outputs": [],
   "source": [
    "for layer in base_model.layers[-30:]:  # Unfreeze the last 30 layers\n",
    "    layer.trainable = True\n",
    "\n",
    "model.compile(optimizer=Adam(learning_rate=1e-5),\n",
    "              loss='binary_crossentropy',\n",
    "              metrics=['accuracy'])\n",
    "\n",
    "model.fit(\n",
    "    train_generator,\n",
    "    epochs=5,\n",
    "    steps_per_epoch=train_generator.samples // train_generator.batch_size\n",
    ")\n"
   ]
  },
  {
   "cell_type": "code",
   "execution_count": null,
   "metadata": {},
   "outputs": [],
   "source": [
    "# Make predictions on the unknown images\n",
    "predictions = model.predict(unknown_generator, steps=unknown_generator.samples // unknown_generator.batch_size)\n",
    "\n",
    "# Access the filenames of the unknown images\n",
    "filenames = unknown_generator.filenames\n",
    "\n",
    "# Convert predictions to class labels (0 or 1)\n",
    "predicted_classes = [1 if pred > 0.5 else 0 for pred in predictions]\n",
    "\n",
    "# Output the results\n",
    "for filename, pred_class in zip(filenames, predicted_classes):\n",
    "    label = 'cluster' if pred_class == 1 else 'not cluster'\n",
    "    print(f\"{filename}: {label}\")\n"
   ]
  }
 ],
 "metadata": {
  "kernelspec": {
   "display_name": "base",
   "language": "python",
   "name": "python3"
  },
  "language_info": {
   "codemirror_mode": {
    "name": "ipython",
    "version": 3
   },
   "file_extension": ".py",
   "mimetype": "text/x-python",
   "name": "python",
   "nbconvert_exporter": "python",
   "pygments_lexer": "ipython3",
   "version": "3.9.7"
  }
 },
 "nbformat": 4,
 "nbformat_minor": 2
}
